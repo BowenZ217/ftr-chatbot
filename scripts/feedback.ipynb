{
 "cells": [
  {
   "cell_type": "code",
   "execution_count": null,
   "metadata": {},
   "outputs": [],
   "source": [
    "import csv\n",
    "import json\n",
    "import requests"
   ]
  },
  {
   "cell_type": "code",
   "execution_count": null,
   "metadata": {},
   "outputs": [],
   "source": [
    "BASE_URL = 'http://localhost:8080'\n",
    "GET_LIKES = BASE_URL + '/api/chatbot_feedback/likes'\n",
    "GET_DISLIKES = BASE_URL + '/api/chatbot_feedback/dislikes'\n",
    "GET_SELECTED_REPLIES = BASE_URL + '/api/chatbot_feedback/selected_replies'\n",
    "POST_UPDATE_SELECTED = BASE_URL + '/api/chatbot_feedback/batch_update_selected'"
   ]
  },
  {
   "cell_type": "code",
   "execution_count": null,
   "metadata": {},
   "outputs": [],
   "source": [
    "# like example\n",
    "def print_like_list(like_list):\n",
    "    for like in like_list:\n",
    "        Content = like.get('Content', '')\n",
    "        ReplyID = like.get('ReplyID', -1)\n",
    "        Selected = like.get('Selected', False)\n",
    "        UserID = like.get('UserID', -1)\n",
    "        print(f'ReplyID: {ReplyID}, Selected: {Selected}, UserID: {UserID}\\nContent: {Content}\\n')\n",
    "    print('')\n",
    "    return\n",
    "\n",
    "params = {\n",
    "    'start_date': '2024-11-01',\n",
    "    'end_date': '2024-11-30',\n",
    "    'page': 1,\n",
    "}\n",
    "\n",
    "try:\n",
    "    response = requests.get(GET_LIKES, params=params)\n",
    "    response.raise_for_status()\n",
    "    data = response.json()\n",
    "    like_list = data.get('data', [])\n",
    "    max_page = data.get('maxpage', 1)\n",
    "    print_like_list(like_list)\n",
    "    print(f'Max page: {max_page}')\n",
    "except Exception as e:\n",
    "    print(f'Error: {e}')\n"
   ]
  },
  {
   "cell_type": "code",
   "execution_count": null,
   "metadata": {},
   "outputs": [],
   "source": [
    "# dislike example\n",
    "def print_dislike_list(dislike_list):\n",
    "    for dislike in dislike_list:\n",
    "        Content = dislike.get('Content', '')\n",
    "        Feedback = dislike.get('Feedback', '')\n",
    "        ReplyID = dislike.get('ReplyID', -1)\n",
    "        Selected = dislike.get('Selected', False)\n",
    "        UserID = dislike.get('UserID', -1)\n",
    "        print(f'ReplyID: {ReplyID}, Selected: {Selected}, UserID: {UserID}\\nContent: {Content}\\nFeedback: {Feedback}\\n')\n",
    "    print('')\n",
    "    return\n",
    "\n",
    "params = {\n",
    "    'start_date': '2024-11-01',\n",
    "    'end_date': '2024-11-30',\n",
    "    'page': 1,\n",
    "}\n",
    "\n",
    "try:\n",
    "    response = requests.get(GET_DISLIKES, params=params)\n",
    "    response.raise_for_status()\n",
    "    data = response.json()\n",
    "    dislike_list = data.get('data', [])\n",
    "    max_page = data.get('maxpage', 1)\n",
    "    print_dislike_list(dislike_list)\n",
    "    print(f'Max page: {max_page}')\n",
    "except Exception as e:\n",
    "    print(f'Error: {e}')\n"
   ]
  },
  {
   "cell_type": "code",
   "execution_count": null,
   "metadata": {},
   "outputs": [],
   "source": [
    "# selected replies example\n",
    "def save_selected_replies_json(selected_replies, filename):\n",
    "    \"\"\"\n",
    "    Save selected replies to a JSON file.\n",
    "    \"\"\"\n",
    "    with open(filename, 'w', encoding='utf-8') as f:\n",
    "        json.dump(selected_replies, f, ensure_ascii=False, indent=4)\n",
    "    return\n",
    "\n",
    "def save_selected_replies_csv(selected_replies, filename):\n",
    "    \"\"\"\n",
    "    Save selected replies to a CSV file.\n",
    "    \"\"\"\n",
    "    with open(filename, 'w', encoding='utf-8', newline='') as f:\n",
    "        writer = csv.DictWriter(f, fieldnames=[\"text_input\", \"output\"])\n",
    "        writer.writeheader()\n",
    "        writer.writerows(selected_replies)\n",
    "    return\n",
    "\n",
    "params = {\n",
    "    'start_date': '2024-11-01',\n",
    "    'end_date': '2024-11-30',\n",
    "    'page': 1,\n",
    "}\n",
    "\n",
    "replies = []\n",
    "while True:\n",
    "    try:\n",
    "        response = requests.get(GET_SELECTED_REPLIES, params=params)\n",
    "        response.raise_for_status()\n",
    "        data = response.json()\n",
    "        selected_replies = data.get('data', [])\n",
    "        max_page = data.get('maxpage', 1)\n",
    "        replies.extend(selected_replies)\n",
    "        if params['page'] >= max_page:\n",
    "            break\n",
    "        params['page'] += 1\n",
    "    except Exception as e:\n",
    "        print(f'Error: {e}')\n",
    "        break\n",
    "\n",
    "save_selected_replies_json(replies, 'selected_replies.json')\n",
    "# save_selected_replies_csv(replies, 'selected_replies.csv')\n"
   ]
  },
  {
   "cell_type": "markdown",
   "metadata": {},
   "source": [
    "For model-tuning, refer:\n",
    "\n",
    "- https://ai.google.dev/gemini-api/docs/model-tuning/tutorial?lang=python\n",
    "- https://github.com/google/generative-ai-docs/blob/main/site/en/gemini-api/docs/model-tuning/python.ipynb"
   ]
  },
  {
   "cell_type": "code",
   "execution_count": null,
   "metadata": {},
   "outputs": [],
   "source": [
    "# update selected example\n",
    "input_data = like_list\n",
    "input_data[0]['Content'] = 'new content'\n",
    "input_data[1]['Selected'] = False\n",
    "\n",
    "try:\n",
    "    response = requests.post(POST_UPDATE_SELECTED, json=input_data)\n",
    "    response.raise_for_status()\n",
    "    data = response.json()\n",
    "    print(data)\n",
    "except Exception as e:\n",
    "    print(f'Error: {e}')\n",
    "    "
   ]
  }
 ],
 "metadata": {
  "kernelspec": {
   "display_name": "Python 3",
   "language": "python",
   "name": "python3"
  },
  "language_info": {
   "codemirror_mode": {
    "name": "ipython",
    "version": 3
   },
   "file_extension": ".py",
   "mimetype": "text/x-python",
   "name": "python",
   "nbconvert_exporter": "python",
   "pygments_lexer": "ipython3",
   "version": "3.11.9"
  }
 },
 "nbformat": 4,
 "nbformat_minor": 2
}
