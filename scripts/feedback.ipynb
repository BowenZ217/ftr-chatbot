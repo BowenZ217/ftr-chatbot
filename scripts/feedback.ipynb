{
 "cells": [
  {
   "cell_type": "code",
   "execution_count": 1,
   "metadata": {},
   "outputs": [],
   "source": [
    "import requests"
   ]
  },
  {
   "cell_type": "code",
   "execution_count": 2,
   "metadata": {},
   "outputs": [],
   "source": [
    "BASE_URL = 'http://localhost:8080'\n",
    "GET_LIKES = BASE_URL + '/api/chatbot_feedback/likes'\n",
    "GET_DISLIKES = BASE_URL + '/api/chatbot_feedback/dislikes'\n",
    "GET_SELECTED_REPLIES = BASE_URL + '/api/chatbot_feedback/selected_replies'\n",
    "POST_UPDATE_SELECTED = BASE_URL + '/api/chatbot_feedback/batch_update_selected'"
   ]
  },
  {
   "cell_type": "code",
   "execution_count": 14,
   "metadata": {},
   "outputs": [
    {
     "name": "stdout",
     "output_type": "stream",
     "text": [
      "ReplyID: 1, Selected: True, UserID: 1\n",
      "Content: new content\n",
      "\n",
      "ReplyID: 4, Selected: False, UserID: 1\n",
      "Content: Response to: test 2\n",
      "\n",
      "ReplyID: 6, Selected: True, UserID: 1\n",
      "Content: Response to: test 111\n",
      "\n",
      "ReplyID: 7, Selected: True, UserID: 1\n",
      "Content: Response to: abcd\n",
      "\n",
      "ReplyID: 14, Selected: True, UserID: 1\n",
      "Content: Response to: zzz\n",
      "\n",
      "ReplyID: 16, Selected: True, UserID: 1\n",
      "Content: Response to: qqq\n",
      "\n",
      "\n",
      "Max page: 1\n"
     ]
    }
   ],
   "source": [
    "# like example\n",
    "def print_like_list(like_list):\n",
    "    for like in like_list:\n",
    "        Content = like.get('Content', '')\n",
    "        ReplyID = like.get('ReplyID', -1)\n",
    "        Selected = like.get('Selected', False)\n",
    "        UserID = like.get('UserID', -1)\n",
    "        print(f'ReplyID: {ReplyID}, Selected: {Selected}, UserID: {UserID}\\nContent: {Content}\\n')\n",
    "    print('')\n",
    "    return\n",
    "\n",
    "params = {\n",
    "    'start_date': '2024-11-01',\n",
    "    'end_date': '2024-11-30',\n",
    "    'page': 1,\n",
    "}\n",
    "\n",
    "try:\n",
    "    response = requests.get(GET_LIKES, params=params)\n",
    "    response.raise_for_status()\n",
    "    data = response.json()\n",
    "    like_list = data.get('data', [])\n",
    "    max_page = data.get('maxpage', 1)\n",
    "    print_like_list(like_list)\n",
    "    print(f'Max page: {max_page}')\n",
    "except Exception as e:\n",
    "    print(f'Error: {e}')\n"
   ]
  },
  {
   "cell_type": "code",
   "execution_count": 9,
   "metadata": {},
   "outputs": [
    {
     "name": "stdout",
     "output_type": "stream",
     "text": [
      "ReplyID: 2, Selected: False, UserID: 1\n",
      "Content: Response to: test dislike\n",
      "Feedback: test feedback\n",
      "\n",
      "ReplyID: 3, Selected: False, UserID: 1\n",
      "Content: Response to: test 2\n",
      "Feedback: abc\n",
      "\n",
      "ReplyID: 12, Selected: False, UserID: 1\n",
      "Content: Response to: fef\n",
      "Feedback: feedback\n",
      "\n",
      "ReplyID: 13, Selected: False, UserID: 1\n",
      "Content: Response to: asd\n",
      "Feedback: feedback 1\n",
      "\n",
      "ReplyID: 15, Selected: False, UserID: 1\n",
      "Content: Response to: asd123\n",
      "Feedback: 111\n",
      "\n",
      "\n",
      "Max page: 1\n"
     ]
    }
   ],
   "source": [
    "# dislike example\n",
    "def print_dislike_list(dislike_list):\n",
    "    for dislike in dislike_list:\n",
    "        Content = dislike.get('Content', '')\n",
    "        Feedback = dislike.get('Feedback', '')\n",
    "        ReplyID = dislike.get('ReplyID', -1)\n",
    "        Selected = dislike.get('Selected', False)\n",
    "        UserID = dislike.get('UserID', -1)\n",
    "        print(f'ReplyID: {ReplyID}, Selected: {Selected}, UserID: {UserID}\\nContent: {Content}\\nFeedback: {Feedback}\\n')\n",
    "    print('')\n",
    "    return\n",
    "\n",
    "params = {\n",
    "    'start_date': '2024-11-01',\n",
    "    'end_date': '2024-11-30',\n",
    "    'page': 1,\n",
    "}\n",
    "\n",
    "try:\n",
    "    response = requests.get(GET_DISLIKES, params=params)\n",
    "    response.raise_for_status()\n",
    "    data = response.json()\n",
    "    dislike_list = data.get('data', [])\n",
    "    max_page = data.get('maxpage', 1)\n",
    "    print_dislike_list(dislike_list)\n",
    "    print(f'Max page: {max_page}')\n",
    "except Exception as e:\n",
    "    print(f'Error: {e}')\n"
   ]
  },
  {
   "cell_type": "code",
   "execution_count": 10,
   "metadata": {},
   "outputs": [],
   "source": [
    "# selected replies example\n",
    "def save_selected_replies(selected_replies, filename):\n",
    "    with open(filename, 'w', encoding='utf-8') as f:\n",
    "        for reply in selected_replies:\n",
    "            f.write(f'{reply}\\n')\n",
    "    return\n",
    "\n",
    "params = {\n",
    "    'start_date': '2024-11-01',\n",
    "    'end_date': '2024-11-30',\n",
    "    'page': 1,\n",
    "}\n",
    "\n",
    "replies = []\n",
    "while True:\n",
    "    try:\n",
    "        response = requests.get(GET_SELECTED_REPLIES, params=params)\n",
    "        response.raise_for_status()\n",
    "        data = response.json()\n",
    "        selected_replies = data.get('data', [])\n",
    "        max_page = data.get('maxpage', 1)\n",
    "        replies.extend(selected_replies)\n",
    "        if params['page'] >= max_page:\n",
    "            break\n",
    "        params['page'] += 1\n",
    "    except Exception as e:\n",
    "        print(f'Error: {e}')\n",
    "\n",
    "save_selected_replies(replies, 'selected_replies.txt')\n"
   ]
  },
  {
   "cell_type": "code",
   "execution_count": 13,
   "metadata": {},
   "outputs": [
    {
     "name": "stdout",
     "output_type": "stream",
     "text": [
      "{'message': 'Selected statuses and content updated successfully', 'updated_count': 6}\n"
     ]
    }
   ],
   "source": [
    "# update selected example\n",
    "input_data = like_list\n",
    "input_data[0]['Content'] = 'new content'\n",
    "input_data[1]['Selected'] = False\n",
    "\n",
    "try:\n",
    "    response = requests.post(POST_UPDATE_SELECTED, json=input_data)\n",
    "    response.raise_for_status()\n",
    "    data = response.json()\n",
    "    print(data)\n",
    "except Exception as e:\n",
    "    print(f'Error: {e}')\n",
    "    "
   ]
  }
 ],
 "metadata": {
  "kernelspec": {
   "display_name": "Python 3",
   "language": "python",
   "name": "python3"
  },
  "language_info": {
   "codemirror_mode": {
    "name": "ipython",
    "version": 3
   },
   "file_extension": ".py",
   "mimetype": "text/x-python",
   "name": "python",
   "nbconvert_exporter": "python",
   "pygments_lexer": "ipython3",
   "version": "3.11.9"
  }
 },
 "nbformat": 4,
 "nbformat_minor": 2
}
